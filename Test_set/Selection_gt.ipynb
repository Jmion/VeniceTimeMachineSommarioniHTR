{
 "cells": [
  {
   "cell_type": "code",
   "execution_count": 1,
   "metadata": {
    "collapsed": true
   },
   "outputs": [],
   "source": [
    "import os\n",
    "import random\n",
    "import numpy as np"
   ]
  },
  {
   "cell_type": "code",
   "execution_count": 2,
   "metadata": {
    "collapsed": true
   },
   "outputs": [],
   "source": [
    "registers = ['reg01',  'reg02',  'reg03' , 'reg04' , 'reg05',  'reg06',  'reg06bis',  'reg07']\n",
    "path_sommarioni = os.path.join('/dhlabdata4','sommarioni')\n",
    "output_file_path = 'gt_images_selection.txt'\n",
    "pages_per_registers = 9"
   ]
  },
  {
   "cell_type": "code",
   "execution_count": 3,
   "metadata": {},
   "outputs": [],
   "source": [
    "selection = []\n",
    "for register in registers:\n",
    "    images = os.listdir(os.path.join(path_sommarioni, register))\n",
    "    num_pages=len(images)\n",
    "    ranges = np.linspace(0, num_pages, 4, dtype=int)\n",
    "    i = -1\n",
    "    for n in range(pages_per_registers):\n",
    "        if n%3==0:\n",
    "            i+=1\n",
    "        bounds = ranges[i:i+2]    \n",
    "        selection.append(random.choice(images[bounds[0]:bounds[1]])+'\\n')\n",
    "            \n",
    "output_file = open(output_file_path, \"a\")\n",
    "output_file.writelines(selection)\n",
    "output_file.close()"
   ]
  },
  {
   "cell_type": "code",
   "execution_count": null,
   "metadata": {
    "collapsed": true
   },
   "outputs": [],
   "source": []
  }
 ],
 "metadata": {
  "kernelspec": {
   "display_name": "Python 3",
   "language": "python",
   "name": "python3"
  },
  "language_info": {
   "codemirror_mode": {
    "name": "ipython",
    "version": 3
   },
   "file_extension": ".py",
   "mimetype": "text/x-python",
   "name": "python",
   "nbconvert_exporter": "python",
   "pygments_lexer": "ipython3",
   "version": "3.6.3"
  }
 },
 "nbformat": 4,
 "nbformat_minor": 2
}
